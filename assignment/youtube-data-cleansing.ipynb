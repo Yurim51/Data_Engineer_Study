{
 "cells": [
  {
   "cell_type": "code",
   "execution_count": 1,
   "metadata": {},
   "outputs": [
    {
     "name": "stderr",
     "output_type": "stream",
     "text": [
      "WARNING: An illegal reflective access operation has occurred\n",
      "WARNING: Illegal reflective access by org.apache.spark.unsafe.Platform (file:/usr/local/spark-3.1.2-bin-hadoop3.2/jars/spark-unsafe_2.12-3.1.2.jar) to constructor java.nio.DirectByteBuffer(long,int)\n",
      "WARNING: Please consider reporting this to the maintainers of org.apache.spark.unsafe.Platform\n",
      "WARNING: Use --illegal-access=warn to enable warnings of further illegal reflective access operations\n",
      "WARNING: All illegal access operations will be denied in a future release\n",
      "24/07/21 16:00:57 WARN NativeCodeLoader: Unable to load native-hadoop library for your platform... using builtin-java classes where applicable\n",
      "Using Spark's default log4j profile: org/apache/spark/log4j-defaults.properties\n",
      "Setting default log level to \"WARN\".\n",
      "To adjust logging level use sc.setLogLevel(newLevel). For SparkR, use setLogLevel(newLevel).\n"
     ]
    }
   ],
   "source": [
    "from pyspark.sql import SparkSession\n",
    "\n",
    "# Spark session & context\n",
    "spark = (SparkSession\n",
    "         .builder\n",
    "         .master(\"local\")\n",
    "         .appName(\"spark-sql\")\n",
    "         .getOrCreate())\n",
    "sc = spark.sparkContext"
   ]
  },
  {
   "cell_type": "code",
   "execution_count": 2,
   "metadata": {},
   "outputs": [
    {
     "name": "stderr",
     "output_type": "stream",
     "text": [
      "                                                                                \r"
     ]
    },
    {
     "name": "stdout",
     "output_type": "stream",
     "text": [
      "root\n",
      " |-- etag: string (nullable = true)\n",
      " |-- items: array (nullable = true)\n",
      " |    |-- element: struct (containsNull = true)\n",
      " |    |    |-- contentDetails: struct (nullable = true)\n",
      " |    |    |    |-- caption: string (nullable = true)\n",
      " |    |    |    |-- definition: string (nullable = true)\n",
      " |    |    |    |-- dimension: string (nullable = true)\n",
      " |    |    |    |-- duration: string (nullable = true)\n",
      " |    |    |    |-- licensedContent: boolean (nullable = true)\n",
      " |    |    |    |-- projection: string (nullable = true)\n",
      " |    |    |    |-- regionRestriction: struct (nullable = true)\n",
      " |    |    |    |    |-- allowed: array (nullable = true)\n",
      " |    |    |    |    |    |-- element: string (containsNull = true)\n",
      " |    |    |-- etag: string (nullable = true)\n",
      " |    |    |-- id: string (nullable = true)\n",
      " |    |    |-- kind: string (nullable = true)\n",
      " |    |    |-- snippet: struct (nullable = true)\n",
      " |    |    |    |-- categoryId: string (nullable = true)\n",
      " |    |    |    |-- channelId: string (nullable = true)\n",
      " |    |    |    |-- channelTitle: string (nullable = true)\n",
      " |    |    |    |-- defaultAudioLanguage: string (nullable = true)\n",
      " |    |    |    |-- defaultLanguage: string (nullable = true)\n",
      " |    |    |    |-- description: string (nullable = true)\n",
      " |    |    |    |-- liveBroadcastContent: string (nullable = true)\n",
      " |    |    |    |-- localized: struct (nullable = true)\n",
      " |    |    |    |    |-- description: string (nullable = true)\n",
      " |    |    |    |    |-- title: string (nullable = true)\n",
      " |    |    |    |-- publishedAt: string (nullable = true)\n",
      " |    |    |    |-- tags: array (nullable = true)\n",
      " |    |    |    |    |-- element: string (containsNull = true)\n",
      " |    |    |    |-- thumbnails: struct (nullable = true)\n",
      " |    |    |    |    |-- default: struct (nullable = true)\n",
      " |    |    |    |    |    |-- height: long (nullable = true)\n",
      " |    |    |    |    |    |-- url: string (nullable = true)\n",
      " |    |    |    |    |    |-- width: long (nullable = true)\n",
      " |    |    |    |    |-- high: struct (nullable = true)\n",
      " |    |    |    |    |    |-- height: long (nullable = true)\n",
      " |    |    |    |    |    |-- url: string (nullable = true)\n",
      " |    |    |    |    |    |-- width: long (nullable = true)\n",
      " |    |    |    |    |-- maxres: struct (nullable = true)\n",
      " |    |    |    |    |    |-- height: long (nullable = true)\n",
      " |    |    |    |    |    |-- url: string (nullable = true)\n",
      " |    |    |    |    |    |-- width: long (nullable = true)\n",
      " |    |    |    |    |-- medium: struct (nullable = true)\n",
      " |    |    |    |    |    |-- height: long (nullable = true)\n",
      " |    |    |    |    |    |-- url: string (nullable = true)\n",
      " |    |    |    |    |    |-- width: long (nullable = true)\n",
      " |    |    |    |    |-- standard: struct (nullable = true)\n",
      " |    |    |    |    |    |-- height: long (nullable = true)\n",
      " |    |    |    |    |    |-- url: string (nullable = true)\n",
      " |    |    |    |    |    |-- width: long (nullable = true)\n",
      " |    |    |    |-- title: string (nullable = true)\n",
      " |    |    |-- statistics: struct (nullable = true)\n",
      " |    |    |    |-- commentCount: string (nullable = true)\n",
      " |    |    |    |-- favoriteCount: string (nullable = true)\n",
      " |    |    |    |-- likeCount: string (nullable = true)\n",
      " |    |    |    |-- viewCount: string (nullable = true)\n",
      " |-- kind: string (nullable = true)\n",
      " |-- nextPageToken: string (nullable = true)\n",
      " |-- pageInfo: struct (nullable = true)\n",
      " |    |-- resultsPerPage: long (nullable = true)\n",
      " |    |-- totalResults: long (nullable = true)\n",
      " |-- updatedt: array (nullable = true)\n",
      " |    |-- element: struct (containsNull = true)\n",
      " |    |    |-- updated_date: string (nullable = true)\n",
      "\n"
     ]
    }
   ],
   "source": [
    "file = \"../data/20240721_23시_Youtube_인기급상승_동영상_videos.json\"\n",
    "video = spark.read.option(\"multiLine\", \"true\").json(file)\n",
    "video.printSchema()"
   ]
  },
  {
   "cell_type": "code",
   "execution_count": 11,
   "metadata": {},
   "outputs": [
    {
     "name": "stderr",
     "output_type": "stream",
     "text": [
      "                                                                                \r"
     ]
    },
    {
     "name": "stdout",
     "output_type": "stream",
     "text": [
      "+--------------------+--------------------+--------------------+-------------+---------+--------------------+\n",
      "|                etag|               items|                kind|nextPageToken| pageInfo|            updatedt|\n",
      "+--------------------+--------------------+--------------------+-------------+---------+--------------------+\n",
      "|ezNKxKzjJIYQe5Tqp...|[{{false, hd, 2d,...|youtube#videoList...|       CDIQAA|{50, 200}|[{2024-07-21 23:1...|\n",
      "+--------------------+--------------------+--------------------+-------------+---------+--------------------+\n",
      "\n"
     ]
    }
   ],
   "source": [
    "video.show(5)"
   ]
  },
  {
   "cell_type": "code",
   "execution_count": 18,
   "metadata": {},
   "outputs": [
    {
     "name": "stderr",
     "output_type": "stream",
     "text": [
      "                                                                                \r"
     ]
    },
    {
     "name": "stdout",
     "output_type": "stream",
     "text": [
      "+--------------------+\n",
      "|               items|\n",
      "+--------------------+\n",
      "|[{{false, hd, 2d,...|\n",
      "+--------------------+\n",
      "\n"
     ]
    }
   ],
   "source": [
    "video.select('items').show(3)"
   ]
  },
  {
   "cell_type": "code",
   "execution_count": 3,
   "metadata": {},
   "outputs": [
    {
     "name": "stderr",
     "output_type": "stream",
     "text": [
      "                                                                                \r"
     ]
    },
    {
     "name": "stdout",
     "output_type": "stream",
     "text": [
      "+--------------------+--------------------+-------------------+-----------+-------------------------------+---------------------------------+----------+--------+---------+---------+-------------+------------+\n",
      "|         publishedAt|           channelId|       channelTitle|         id|                          title|                             tags|categoryId|duration|viewCount|likeCount|favoriteCount|commentCount|\n",
      "+--------------------+--------------------+-------------------+-----------+-------------------------------+---------------------------------+----------+--------+---------+---------+-------------+------------+\n",
      "|2024-07-20T14:04:00Z|UC6erIDuvbOaAO-OT...|          SBS Drama|he86o7RI7dU|[#습포이드] 복수를 위한 이혼...|[스브스드라마, 굿파트너 장나라...|        24|PT29M20S|   934699|     8024|            0|         653|\n",
      "|2024-07-20T09:00:39Z|UChgOgRNxrtCcVARD...|짧은대본 ShortPaper|pBCCrmVYPss|                 연애 온도 차이|          [드라마, web drama, ...|        24|PT12M59S|   617400|    12121|            0|        1092|\n",
      "|2024-07-19T14:13:38Z|UC6erIDuvbOaAO-OT...|          SBS Drama|3jAm5XIVpAc| [#습포이드] 참교육 가즈아! ...|[스브스드라마, 굿파트너 장나라...|        24|PT29M52S|   619574|     4642|            0|         336|\n",
      "+--------------------+--------------------+-------------------+-----------+-------------------------------+---------------------------------+----------+--------+---------+---------+-------------+------------+\n",
      "only showing top 3 rows\n",
      "\n"
     ]
    }
   ],
   "source": [
    "from pyspark.sql.functions import explode\n",
    "\n",
    "df_video = video.select(\n",
    "               explode(\"items\").alias(\"item\"),\n",
    "               \"item.snippet.publishedAt\",\n",
    "               \"item.snippet.channelId\",\n",
    "               \"item.snippet.channelTitle\",\n",
    "               \"item.id\",\n",
    "               \"item.snippet.title\",\n",
    "               \"item.snippet.tags\",\n",
    "               \"item.snippet.categoryId\",\n",
    "               \"item.contentDetails.duration\",\n",
    "               \"item.statistics.viewCount\",\n",
    "               \"item.statistics.likeCount\",\n",
    "               \"item.statistics.favoriteCount\",\n",
    "               \"item.statistics.commentCount\"\n",
    "           )\n",
    "df_video = df_video.drop(\"item\")\n",
    "df_video.show(3)"
   ]
  },
  {
   "cell_type": "code",
   "execution_count": 35,
   "metadata": {},
   "outputs": [
    {
     "name": "stderr",
     "output_type": "stream",
     "text": [
      "                                                                                \r"
     ]
    },
    {
     "name": "stdout",
     "output_type": "stream",
     "text": [
      "+--------------------+------------------------+------------+-----------+-----------------------------------------------------------------------------------------------------------------------------------------------------+---------------------------------------------------------------------------------------------------------------------------------------------------------+----------+--------+---------+---------+-------------+------------+\n",
      "|publishedAt         |channelId               |channelTitle|id         |title                                                                                                                                                |tags                                                                                                                                                     |categoryId|duration|viewCount|likeCount|favoriteCount|commentCount|\n",
      "+--------------------+------------------------+------------+-----------+-----------------------------------------------------------------------------------------------------------------------------------------------------+---------------------------------------------------------------------------------------------------------------------------------------------------------+----------+--------+---------+---------+-------------+------------+\n",
      "|2024-07-20T14:04:00Z|UC6erIDuvbOaAO-OT5rB2Xew|SBS Drama   |he86o7RI7dU|[#습포이드] 복수를 위한 이혼 Show 시작💥 내연녀랑 살림 차린 증거 모아서 남편한테 이혼 소장 보낸 장나라! 합의는 없어^^#굿파트너 #goodpartner #sbsdrama|[스브스드라마, 굿파트너 장나라, 굿파트너 남지현, 굿파트너 몰아보기, 굿파트너 명장면, 굿파트너 요약, 굿파트너, 드라마 굿파트너, SBS 굿파트너, 굿파트너4화]|24        |PT29M20S|934699   |8024     |0            |653         |\n",
      "+--------------------+------------------------+------------+-----------+-----------------------------------------------------------------------------------------------------------------------------------------------------+---------------------------------------------------------------------------------------------------------------------------------------------------------+----------+--------+---------+---------+-------------+------------+\n",
      "only showing top 1 row\n",
      "\n"
     ]
    }
   ],
   "source": [
    "df.show(1, False)"
   ]
  },
  {
   "cell_type": "code",
   "execution_count": 4,
   "metadata": {},
   "outputs": [
    {
     "name": "stderr",
     "output_type": "stream",
     "text": [
      "                                                                                \r"
     ]
    },
    {
     "name": "stdout",
     "output_type": "stream",
     "text": [
      "root\n",
      " |-- etag: string (nullable = true)\n",
      " |-- items: array (nullable = true)\n",
      " |    |-- element: struct (containsNull = true)\n",
      " |    |    |-- etag: string (nullable = true)\n",
      " |    |    |-- id: string (nullable = true)\n",
      " |    |    |-- kind: string (nullable = true)\n",
      " |    |    |-- snippet: struct (nullable = true)\n",
      " |    |    |    |-- canReply: boolean (nullable = true)\n",
      " |    |    |    |-- channelId: string (nullable = true)\n",
      " |    |    |    |-- isPublic: boolean (nullable = true)\n",
      " |    |    |    |-- topLevelComment: struct (nullable = true)\n",
      " |    |    |    |    |-- etag: string (nullable = true)\n",
      " |    |    |    |    |-- id: string (nullable = true)\n",
      " |    |    |    |    |-- kind: string (nullable = true)\n",
      " |    |    |    |    |-- snippet: struct (nullable = true)\n",
      " |    |    |    |    |    |-- authorChannelId: struct (nullable = true)\n",
      " |    |    |    |    |    |    |-- value: string (nullable = true)\n",
      " |    |    |    |    |    |-- authorChannelUrl: string (nullable = true)\n",
      " |    |    |    |    |    |-- authorDisplayName: string (nullable = true)\n",
      " |    |    |    |    |    |-- authorProfileImageUrl: string (nullable = true)\n",
      " |    |    |    |    |    |-- canRate: boolean (nullable = true)\n",
      " |    |    |    |    |    |-- channelId: string (nullable = true)\n",
      " |    |    |    |    |    |-- likeCount: long (nullable = true)\n",
      " |    |    |    |    |    |-- publishedAt: string (nullable = true)\n",
      " |    |    |    |    |    |-- textDisplay: string (nullable = true)\n",
      " |    |    |    |    |    |-- textOriginal: string (nullable = true)\n",
      " |    |    |    |    |    |-- updatedAt: string (nullable = true)\n",
      " |    |    |    |    |    |-- videoId: string (nullable = true)\n",
      " |    |    |    |    |    |-- viewerRating: string (nullable = true)\n",
      " |    |    |    |-- totalReplyCount: long (nullable = true)\n",
      " |    |    |    |-- videoId: string (nullable = true)\n",
      " |-- kind: string (nullable = true)\n",
      " |-- nextPageToken: string (nullable = true)\n",
      " |-- pageInfo: struct (nullable = true)\n",
      " |    |-- resultsPerPage: long (nullable = true)\n",
      " |    |-- totalResults: long (nullable = true)\n",
      "\n"
     ]
    }
   ],
   "source": [
    "files = \"../data/comments_data/*.json\"\n",
    "comment = spark.read.option(\"multiLine\", \"true\").json(files)\n",
    "comment.printSchema()"
   ]
  },
  {
   "cell_type": "code",
   "execution_count": 5,
   "metadata": {},
   "outputs": [
    {
     "name": "stderr",
     "output_type": "stream",
     "text": [
      "                                                                                \r"
     ]
    },
    {
     "name": "stdout",
     "output_type": "stream",
     "text": [
      "+-----------+----------------------------------+-----------------+---------+--------------------+\n",
      "|    videoId|                      textOriginal|authorDisplayName|likeCount|         publishedAt|\n",
      "+-----------+----------------------------------+-----------------+---------+--------------------+\n",
      "|3ekhZlE5fq0|    📣 헤븐 그 자체인 프로 아이...|           @ch117|      480|2024-07-18T13:02:38Z|\n",
      "|3ekhZlE5fq0| 태연은 헤메에 따라 분위기 다양...| @user-rh1ju6oy9u|      112|2024-07-19T04:54:33Z|\n",
      "|9SA6degN604|화려하고 예쁘장하게 생겨서 제일...|         @souuppu|      367|2024-07-18T19:13:20Z|\n",
      "+-----------+----------------------------------+-----------------+---------+--------------------+\n",
      "only showing top 3 rows\n",
      "\n"
     ]
    }
   ],
   "source": [
    "df_comment = comment.select(\n",
    "               explode(\"items\").alias(\"item\"),\n",
    "               \"item.snippet.videoId\",\n",
    "               \"item.snippet.topLevelComment.snippet.textOriginal\",\n",
    "               \"item.snippet.topLevelComment.snippet.authorDisplayName\",\n",
    "               \"item.snippet.topLevelComment.snippet.likeCount\",\n",
    "               \"item.snippet.topLevelComment.snippet.publishedAt\"\n",
    "           )\n",
    "df_comment = df_comment.drop(\"item\")\n",
    "df_comment.show(3)"
   ]
  },
  {
   "cell_type": "code",
   "execution_count": 41,
   "metadata": {},
   "outputs": [
    {
     "name": "stderr",
     "output_type": "stream",
     "text": [
      "                                                                                \r"
     ]
    },
    {
     "name": "stdout",
     "output_type": "stream",
     "text": [
      "+--------------+\n",
      "|count(videoId)|\n",
      "+--------------+\n",
      "|50            |\n",
      "+--------------+\n",
      "\n"
     ]
    }
   ],
   "source": [
    "import pyspark.sql.functions as F\n",
    "\n",
    "df_comment.agg(F.countDistinct('videoId')).show(5, False)"
   ]
  },
  {
   "cell_type": "code",
   "execution_count": 7,
   "metadata": {},
   "outputs": [
    {
     "name": "stderr",
     "output_type": "stream",
     "text": [
      "                                                                                \r"
     ]
    },
    {
     "name": "stdout",
     "output_type": "stream",
     "text": [
      "+-----------+-----+\n",
      "|    videoId|count|\n",
      "+-----------+-----+\n",
      "|pf7QYivvs4c|    2|\n",
      "|H5_KjoIUXOQ|    2|\n",
      "|uOCY-KYU6qY|    2|\n",
      "|u6bkTR_deNM|    2|\n",
      "|pEE9cygiBTE|    2|\n",
      "|Hjv_PARH0hs|    2|\n",
      "|UcibwCZ-ta0|    2|\n",
      "|W4pbL8e97J4|    2|\n",
      "|EKQT8IP1TeU|    2|\n",
      "|4SNThp0YiU4|    2|\n",
      "|ieZi8Q-eVSQ|    2|\n",
      "|9BPqIFTQ0U8|    2|\n",
      "|XEUNO49sRH4|    2|\n",
      "|XKIRUOlNdpo|    2|\n",
      "|Av9DvtlJ9_M|    2|\n",
      "|3ekhZlE5fq0|    2|\n",
      "|9HU9t8VFxR4|    2|\n",
      "|0P0aQreFs8w|    2|\n",
      "|7FBFjSOKB0Y|    2|\n",
      "|AOiZ-IekJg0|    2|\n",
      "+-----------+-----+\n",
      "only showing top 20 rows\n",
      "\n"
     ]
    }
   ],
   "source": [
    "from pyspark.sql.functions import count\n",
    "\n",
    "comments_counts = df_comment.groupBy(\"videoId\").agg(count(\"*\").alias(\"count\"))\n",
    "comments_counts.show()"
   ]
  },
  {
   "cell_type": "code",
   "execution_count": 9,
   "metadata": {},
   "outputs": [],
   "source": [
    "df_video.createOrReplaceTempView(\"videos\")\n",
    "df_comment.createOrReplaceTempView(\"comments\")"
   ]
  },
  {
   "cell_type": "code",
   "execution_count": 12,
   "metadata": {},
   "outputs": [
    {
     "name": "stderr",
     "output_type": "stream",
     "text": [
      "[Stage 16:>                                                         (0 + 1) / 1]\r"
     ]
    },
    {
     "name": "stdout",
     "output_type": "stream",
     "text": [
      "+--------------------+--------------------+-------------------+-----------+-------------------------------+---------------------------------+----------+--------+---------+---------+-------------+------------+-----------+---------------------------------+-----------------+---------+--------------------+\n",
      "|         publishedAt|           channelId|       channelTitle|         id|                          title|                             tags|categoryId|duration|viewCount|likeCount|favoriteCount|commentCount|    videoId|                     textOriginal|authorDisplayName|likeCount|         publishedAt|\n",
      "+--------------------+--------------------+-------------------+-----------+-------------------------------+---------------------------------+----------+--------+---------+---------+-------------+------------+-----------+---------------------------------+-----------------+---------+--------------------+\n",
      "|2024-07-20T14:04:00Z|UC6erIDuvbOaAO-OT...|          SBS Drama|he86o7RI7dU|[#습포이드] 복수를 위한 이혼...|[스브스드라마, 굿파트너 장나라...|        24|PT29M20S|   934699|     8024|            0|         653|he86o7RI7dU| 저 넘편놈 반응보니  남지현 변...|   @user-a3n6g7el|     1415|2024-07-20T14:37:01Z|\n",
      "|2024-07-20T14:04:00Z|UC6erIDuvbOaAO-OT...|          SBS Drama|he86o7RI7dU|[#습포이드] 복수를 위한 이혼...|[스브스드라마, 굿파트너 장나라...|        24|PT29M20S|   934699|     8024|            0|         653|he86o7RI7dU|돈도 아닌 망신주는게 목적인 ㅋ...|     @kategodream|     1287|2024-07-20T14:48:16Z|\n",
      "|2024-07-20T09:00:39Z|UChgOgRNxrtCcVARD...|짧은대본 ShortPaper|pBCCrmVYPss|                 연애 온도 차이|          [드라마, web drama, ...|        24|PT12M59S|   617400|    12121|            0|        1092|pBCCrmVYPss|금경이 짧대 발판삼아서 대성할 ...| @user-oh4fv3ft3z|     5129|2024-07-20T09:42:36Z|\n",
      "+--------------------+--------------------+-------------------+-----------+-------------------------------+---------------------------------+----------+--------+---------+---------+-------------+------------+-----------+---------------------------------+-----------------+---------+--------------------+\n",
      "only showing top 3 rows\n",
      "\n"
     ]
    },
    {
     "name": "stderr",
     "output_type": "stream",
     "text": [
      "\r",
      "                                                                                \r"
     ]
    }
   ],
   "source": [
    "df_join = spark.sql(\"SELECT * FROM videos as A LEFT JOIN comments as B ON A.id = B.videoId\")\n",
    "df_join.show(3)"
   ]
  },
  {
   "cell_type": "code",
   "execution_count": 20,
   "metadata": {},
   "outputs": [
    {
     "name": "stderr",
     "output_type": "stream",
     "text": [
      "[Stage 65:=======================================================>(74 + 1) / 75]\r"
     ]
    },
    {
     "name": "stdout",
     "output_type": "stream",
     "text": [
      "+----------+-----+\n",
      "|categoryId|count|\n",
      "+----------+-----+\n",
      "|        22|   12|\n",
      "|        17|    2|\n",
      "|        26|    3|\n",
      "|        19|    3|\n",
      "|        23|    5|\n",
      "|        24|   17|\n",
      "|         1|    1|\n",
      "|        20|    3|\n",
      "|        10|    4|\n",
      "+----------+-----+\n",
      "\n"
     ]
    },
    {
     "name": "stderr",
     "output_type": "stream",
     "text": [
      "\r",
      "                                                                                \r"
     ]
    }
   ],
   "source": [
    "spark.sql(\"SELECT categoryId, COUNT(*) as count FROM videos GROUP BY categoryId\").show()"
   ]
  },
  {
   "cell_type": "markdown",
   "metadata": {},
   "source": [
    "## 댓글 분석"
   ]
  },
  {
   "cell_type": "markdown",
   "metadata": {},
   "source": [
    "### 한국어 / 영어 분리"
   ]
  },
  {
   "cell_type": "code",
   "execution_count": 49,
   "metadata": {},
   "outputs": [
    {
     "name": "stderr",
     "output_type": "stream",
     "text": [
      "                                                                                \r"
     ]
    },
    {
     "name": "stdout",
     "output_type": "stream",
     "text": [
      "+-----------+----------------------------------+--------+\n",
      "|    videoId|                      textOriginal|language|\n",
      "+-----------+----------------------------------+--------+\n",
      "|3ekhZlE5fq0|    📣 헤븐 그 자체인 프로 아이...|  한국어|\n",
      "|3ekhZlE5fq0| 태연은 헤메에 따라 분위기 다양...|  한국어|\n",
      "|9SA6degN604|화려하고 예쁘장하게 생겨서 제일...|  한국어|\n",
      "|9SA6degN604|  기꺼이 8번출구 아저씨가 되어 ...|  한국어|\n",
      "|nAHIo8o9sMQ|  🕸본인등판 데드풀과 울버린 편...|  한국어|\n",
      "|nAHIo8o9sMQ| 아니 할리우드 대표 배우들이 자...|  한국어|\n",
      "|CJ7uX5sXfuc| 이 링크로 스픽에 들어가시면 구...|  한국어|\n",
      "|CJ7uX5sXfuc|가위 하나로 만든다길래 부엌에서...|  한국어|\n",
      "|pEE9cygiBTE|            00:46⚡#NCT127 #삐그...|  한국어|\n",
      "|pEE9cygiBTE|              No one will under...|    영어|\n",
      "|qcKnIYckJHM|    여러분, 안녕하세요.\r\n",
      "\r\n",
      "먼저...|  한국어|\n",
      "|qcKnIYckJHM|  참피디 리스펙하고 대단한점\n",
      "\n",
      "1...|  한국어|\n",
      "|QfpTHAfe1ys|  캔디님들🍬오늘은 바삭한 '배추...|  한국어|\n",
      "|QfpTHAfe1ys|최화정님이 부러운건 럭셔리한 삶...|  한국어|\n",
      "|ospP1kfxWIo|   와 소고기 2만원 어치 사서 미...|  한국어|\n",
      "|ospP1kfxWIo|    와 주연님🥹 저 댓글 진짜 잘...|  한국어|\n",
      "|kC4Rxnk-c4c|   🧊먹어볼래 X 더미식 초계국수...|  한국어|\n",
      "|kC4Rxnk-c4c| 광고주가 영상보고 진짜 만족하겠다|  한국어|\n",
      "|pBCCrmVYPss|         멤버십 가입 - https://...|  한국어|\n",
      "|pBCCrmVYPss| 금경이 짧대 발판삼아서 대성할 ...|  한국어|\n",
      "+-----------+----------------------------------+--------+\n",
      "only showing top 20 rows\n",
      "\n"
     ]
    }
   ],
   "source": [
    "language = spark.sql(\"\"\"\n",
    "        SELECT videoId, textOriginal,\n",
    "          CASE\n",
    "            WHEN REGEXP_REPLACE(textOriginal, '[^가-힣]', '') <> '' THEN '한국어'\n",
    "            WHEN REGEXP_REPLACE(textOriginal, '[^a-zA-Z]', '') <> '' THEN '영어'\n",
    "            ELSE '기타'\n",
    "          END AS language\n",
    "        FROM comments\n",
    "        \"\"\")\n",
    "language.show()"
   ]
  },
  {
   "cell_type": "code",
   "execution_count": 36,
   "metadata": {},
   "outputs": [
    {
     "name": "stderr",
     "output_type": "stream",
     "text": [
      "                                                                                \r"
     ]
    },
    {
     "data": {
      "text/plain": [
       "Row(textOriginal='00:46⚡#NCT127 #삐그덕 #Walk 킬포인트 삐그덕 댄스\\r\\n02:04⚡#NCT127 #삐그덕 #Walk 킬포인트 삐그덕 댄스 + 걸어 Walk 댄스\\r\\n\\r\\n 🔊1theKILLPO - NCT 127 킬포인트 \"삐그덕 댄스 + 걸어 Walk 댄스\" 이벤트\\r\\nⓛ 1theK Originals에서 \\'1theKILLPO NCT 127 편\\'을 시청하기\\r\\n② 킬포인트 “삐그덕 댄스 + 걸어 Walk 댄스” 부분의 타임코드(0:46, 2:04)와 본인이 느낀 삐그덕 댄스 + 걸어 Walk 댄스의 매력을 댓글로 남기기!\\r\\n③ 1theK Originals 채널 구독하기!\\r\\n✔참여기간 : 7/17 ~ 7/24\\r\\n✔추첨을 통해 NCT 127의 친필싸인이 담긴 폴라로이드를 드립니다🥰(당첨자 개별연락)\\r\\n✔타인의 글을 도용한 경우 당첨이 취소됩니다.\\r\\n\\r\\n🔊K-POP Wonderland, 1theK 👇\\r\\nSubscribe Now!👉https://www.youtube.com/1theKOriginals?sub_confirmation=1')"
      ]
     },
     "execution_count": 36,
     "metadata": {},
     "output_type": "execute_result"
    }
   ],
   "source": [
    "df_comment.select(\"textOriginal\").collect()[8]"
   ]
  },
  {
   "cell_type": "code",
   "execution_count": 37,
   "metadata": {},
   "outputs": [
    {
     "name": "stderr",
     "output_type": "stream",
     "text": [
      "                                                                                \r"
     ]
    },
    {
     "data": {
      "text/plain": [
       "Row(textOriginal=\"No one will understand my obsession with the way Mark throws his head back and moves his shoulders when he's particularly feeling the choreo. Like what he's doing here💗❤\\u200d🔥\")"
      ]
     },
     "execution_count": 37,
     "metadata": {},
     "output_type": "execute_result"
    }
   ],
   "source": [
    "df_comment.select(\"textOriginal\").collect()[9]"
   ]
  },
  {
   "cell_type": "code",
   "execution_count": 51,
   "metadata": {},
   "outputs": [
    {
     "name": "stderr",
     "output_type": "stream",
     "text": [
      "                                                                                \r"
     ]
    },
    {
     "name": "stdout",
     "output_type": "stream",
     "text": [
      "+-----------+--------+---------------+\n",
      "|    videoId|language|count(language)|\n",
      "+-----------+--------+---------------+\n",
      "|EKQT8IP1TeU|    영어|              2|\n",
      "|uOCY-KYU6qY|  한국어|              2|\n",
      "|pEE9cygiBTE|    영어|              1|\n",
      "|NVDLUJa5dac|  한국어|              2|\n",
      "|Av9DvtlJ9_M|    영어|              1|\n",
      "|0_1x0s75cQ8|  한국어|              2|\n",
      "|pYru6V3zmis|  한국어|              2|\n",
      "|pEE9cygiBTE|  한국어|              1|\n",
      "|coN9gSUo1Nk|  한국어|              2|\n",
      "|7FBFjSOKB0Y|  한국어|              2|\n",
      "|pf7QYivvs4c|    영어|              1|\n",
      "|Hjv_PARH0hs|  한국어|              2|\n",
      "|9HU9t8VFxR4|  한국어|              2|\n",
      "|DEwrY0cm6-0|  한국어|              2|\n",
      "|ieZi8Q-eVSQ|  한국어|              2|\n",
      "|MmQbHRykuGQ|  한국어|              2|\n",
      "|pUIAPXUUOOE|  한국어|              2|\n",
      "|CJ7uX5sXfuc|  한국어|              2|\n",
      "|qcKnIYckJHM|  한국어|              2|\n",
      "|YxgzKc0Src8|  한국어|              2|\n",
      "+-----------+--------+---------------+\n",
      "only showing top 20 rows\n",
      "\n"
     ]
    }
   ],
   "source": [
    "import pyspark.sql.functions as F\n",
    "\n",
    "language.groupby('videoId', 'language').agg(count('language')).show()"
   ]
  },
  {
   "cell_type": "code",
   "execution_count": null,
   "metadata": {},
   "outputs": [],
   "source": []
  }
 ],
 "metadata": {
  "kernelspec": {
   "display_name": "Python 3 (ipykernel)",
   "language": "python",
   "name": "python3"
  },
  "language_info": {
   "codemirror_mode": {
    "name": "ipython",
    "version": 3
   },
   "file_extension": ".py",
   "mimetype": "text/x-python",
   "name": "python",
   "nbconvert_exporter": "python",
   "pygments_lexer": "ipython3",
   "version": "3.9.7"
  }
 },
 "nbformat": 4,
 "nbformat_minor": 2
}
